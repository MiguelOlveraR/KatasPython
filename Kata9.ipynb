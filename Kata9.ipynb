{
 "cells": [
  {
   "cell_type": "code",
   "execution_count": 4,
   "metadata": {},
   "outputs": [],
   "source": [
    "def Informe(Tan_externo, Tan_interno, Tan_adicional):\n",
    "    total_average = (Tan_externo + Tan_interno + Tan_adicional) / 3\n",
    "    return f\"\"\"Informe sobre combustible:\n",
    "    Total V prom: {total_average}%\n",
    "    Tanque externo: {Tan_externo}%\n",
    "    Tanque interno: {Tan_interno}%\n",
    "    Tanque de repuesto: {Tan_adicional}% \n",
    "    \"\"\""
   ]
  },
  {
   "cell_type": "code",
   "execution_count": 6,
   "metadata": {},
   "outputs": [
    {
     "name": "stdout",
     "output_type": "stream",
     "text": [
      "Informe sobre combustible:\n",
      "    Total V prom: 80.0%\n",
      "    Tanque externo: 60%\n",
      "    Tanque interno: 80%\n",
      "    Tanque de repuesto: 100% \n",
      "    \n"
     ]
    },
    {
     "data": {
      "text/plain": [
       "82.0"
      ]
     },
     "execution_count": 6,
     "metadata": {},
     "output_type": "execute_result"
    }
   ],
   "source": [
    "print(Informe(60, 80, 100))\n",
    "def average(values):\n",
    "    total = sum(values)\n",
    "    number_of_items = len(values)\n",
    "    return total / number_of_items\n",
    "average([80, 85, 81]) "
   ]
  },
  {
   "cell_type": "code",
   "execution_count": 7,
   "metadata": {},
   "outputs": [
    {
     "name": "stdout",
     "output_type": "stream",
     "text": [
      "Informe de combustible:\n",
      "    V prom: 78.0%\n",
      "    Tanque 1: 88%\n",
      "    Tanque 2: 76%\n",
      "    Tanque 3: 70% \n",
      "    \n"
     ]
    }
   ],
   "source": [
    "def Informe(Tan_1, Tan_2, Tan_3):\n",
    "    return f\"\"\"Informe de combustible:\n",
    "    V prom: {average([Tan_1, Tan_2, Tan_3])}%\n",
    "    Tanque 1: {Tan_1}%\n",
    "    Tanque 2: {Tan_2}%\n",
    "    Tanque 3: {Tan_3}% \n",
    "    \"\"\"\n",
    "print(Informe(88, 76, 70))"
   ]
  },
  {
   "cell_type": "markdown",
   "metadata": {},
   "source": [
    "Ejercicio2"
   ]
  },
  {
   "cell_type": "code",
   "execution_count": 12,
   "metadata": {},
   "outputs": [
    {
     "name": "stdout",
     "output_type": "stream",
     "text": [
      "\n",
      "    Destino: Mercurio\n",
      "    Tiempo de vuelo: 65 minutos\n",
      "    Combustible total: 500000 Litros\n",
      "    \n"
     ]
    }
   ],
   "source": [
    "def IDC(HDL, TDV, D, Tan_interno, Tan_externo):\n",
    "    return f\"\"\"\n",
    "    Destino: {D}\n",
    "    Tiempo de vuelo: {HDL + TDV} minutos\n",
    "    Combustible total: {Tan_interno + Tan_externo} Litros\n",
    "    \"\"\"\n",
    "print(IDC(14, 51, \"Venus\", 200000, 300000))"
   ]
  },
  {
   "cell_type": "code",
   "execution_count": 20,
   "metadata": {},
   "outputs": [
    {
     "name": "stdout",
     "output_type": "stream",
     "text": [
      "\n",
      "    Destino Venus\n",
      "    Tiempo estimado de viaje: 149 minutos\n",
      "    Combustible restante: 103086\n",
      "    \n"
     ]
    }
   ],
   "source": [
    "def IDC(D, *minutos, **RDC):\n",
    "    return f\"\"\"\n",
    "    Destino {D}\n",
    "    Tiempo estimado de viaje: {sum(minutos)} minutos\n",
    "    Combustible restante: {sum(RDC.values())}\n",
    "    \"\"\"\n",
    "\n",
    "print(IDC(\"Venus\", 149, Tan_interno=98765, Tan_externo=4321))"
   ]
  },
  {
   "cell_type": "code",
   "execution_count": 23,
   "metadata": {},
   "outputs": [
    {
     "name": "stdout",
     "output_type": "stream",
     "text": [
      "\n",
      "    Destino: Venus\n",
      "    Tiempo estimado de viaje: 343 minutos\n",
      "    Combustible restante: 909067\n",
      "    Tanque_Interno : 232300 litros restantes\n",
      "Tanque_Externo : 676767 litros restantes\n",
      "\n"
     ]
    }
   ],
   "source": [
    "def IDC(D, *minutos, **RDC):\n",
    "    Info = f\"\"\"\n",
    "    Destino: {D}\n",
    "    Tiempo estimado de viaje: {sum(minutos)} minutos\n",
    "    Combustible restante: {sum(RDC.values())}\n",
    "    \"\"\"\n",
    "    for T, L in RDC.items():\n",
    "        Info += f\"{T} : {L} litros restantes\\n\"\n",
    "    return Info\n",
    "\n",
    "print(IDC(\"Venus\", 343, Tanque_Interno=232300, Tanque_Externo=676767))"
   ]
  }
 ],
 "metadata": {
  "interpreter": {
   "hash": "f0c9c42b69b4f22e7f75885578fc406e171d5d240639581f4c48e72d9e0cdaa4"
  },
  "kernelspec": {
   "display_name": "Python 3.10.2 64-bit (windows store)",
   "language": "python",
   "name": "python3"
  },
  "language_info": {
   "codemirror_mode": {
    "name": "ipython",
    "version": 3
   },
   "file_extension": ".py",
   "mimetype": "text/x-python",
   "name": "python",
   "nbconvert_exporter": "python",
   "pygments_lexer": "ipython3",
   "version": "3.10.2"
  },
  "orig_nbformat": 4
 },
 "nbformat": 4,
 "nbformat_minor": 2
}
