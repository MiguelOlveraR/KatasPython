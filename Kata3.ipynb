{
 "cells": [
  {
   "cell_type": "code",
   "execution_count": 2,
   "metadata": {},
   "outputs": [
    {
     "name": "stdout",
     "output_type": "stream",
     "text": [
      "Todo parece en orden...¡Por ahora!\n"
     ]
    }
   ],
   "source": [
    "Asteroide = 5\n",
    "if Asteroide > 25:\n",
    "    print(' ¡Se acerca un asteroide cuidado!')\n",
    "else:\n",
    "    print('Todo parece en orden...¡Por ahora!')"
   ]
  },
  {
   "cell_type": "code",
   "execution_count": 3,
   "metadata": {},
   "outputs": [
    {
     "name": "stdout",
     "output_type": "stream",
     "text": [
      "Aquí no pasó nada, sigan en lo suyo gente\n"
     ]
    }
   ],
   "source": [
    "Asteroide = 19\n",
    "if Asteroide > 20:\n",
    "    print('¡Miradas al cielo, se observa un asteroide en el horizonte!')\n",
    "elif Asteroide == 20:\n",
    "    print('¡Miradas al cielo, se observa un asteroide en el horizonte!')\n",
    "else:\n",
    "    print('Aquí no pasó nada, sigan en lo suyo gente')"
   ]
  },
  {
   "cell_type": "code",
   "execution_count": 5,
   "metadata": {},
   "outputs": [
    {
     "name": "stdout",
     "output_type": "stream",
     "text": [
      "¡Patitas pa qué las quiero, se aproxima un asteroide! ES ENORME CORRAN!!!\n"
     ]
    }
   ],
   "source": [
    "VDA = 40\n",
    "TDA = 40\n",
    "if VDA > 25 and TDA > 25:\n",
    "    print('¡Patitas pa qué las quiero, se aproxima un asteroide! ES ENORME CORRAN!!!')\n",
    "elif VDA >= 20:\n",
    "    print('¡Miren todos al cielo, se observa un asteroide!')\n",
    "elif TDA < 25:\n",
    "    print('No pasa nada oiga, todo chill')\n",
    "else:\n",
    "    print('No pasa nada oiga, todo chill')"
   ]
  }
 ],
 "metadata": {
  "interpreter": {
   "hash": "f0c9c42b69b4f22e7f75885578fc406e171d5d240639581f4c48e72d9e0cdaa4"
  },
  "kernelspec": {
   "display_name": "Python 3.10.2 64-bit (windows store)",
   "language": "python",
   "name": "python3"
  },
  "language_info": {
   "codemirror_mode": {
    "name": "ipython",
    "version": 3
   },
   "file_extension": ".py",
   "mimetype": "text/x-python",
   "name": "python",
   "nbconvert_exporter": "python",
   "pygments_lexer": "ipython3",
   "version": "3.10.2"
  },
  "orig_nbformat": 4
 },
 "nbformat": 4,
 "nbformat_minor": 2
}
