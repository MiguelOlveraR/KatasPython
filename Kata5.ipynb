{
 "cells": [
  {
   "cell_type": "code",
   "execution_count": 2,
   "metadata": {},
   "outputs": [
    {
     "name": "stdout",
     "output_type": "stream",
     "text": [
      "628949330\n",
      "390577533.93\n"
     ]
    }
   ],
   "source": [
    "PlanetaA = 149597870\n",
    "PlanetaB = 778547200\n",
    "Distancia = PlanetaB - PlanetaA\n",
    "print(Distancia)\n",
    "\n",
    "Distancia2 = Distancia * 0.621\n",
    "print(Distancia2)"
   ]
  },
  {
   "cell_type": "markdown",
   "metadata": {},
   "source": [
    "EJERCICIO 2"
   ]
  },
  {
   "cell_type": "code",
   "execution_count": 8,
   "metadata": {},
   "outputs": [
    {
     "name": "stdout",
     "output_type": "stream",
     "text": [
      "778547150\n",
      "483477780.15\n"
     ]
    }
   ],
   "source": [
    "PlanetaA = input('Introduzca la distancia del sol para el primer planeta en KM')\n",
    "PlanteaB = input('Introduzca la distancia desde el sol para el segundo planeta en KM')\n",
    "PlanetaA = int(PlanetaA)\n",
    "PlanetaB = int(PlanetaB)\n",
    "\n",
    "Distancia3 = PlanetaB - PlanetaA\n",
    "print(Distancia3)\n",
    "\n",
    "Distancia4 = Distancia3 * 0.621\n",
    "print(abs(Distancia4))"
   ]
  }
 ],
 "metadata": {
  "interpreter": {
   "hash": "f0c9c42b69b4f22e7f75885578fc406e171d5d240639581f4c48e72d9e0cdaa4"
  },
  "kernelspec": {
   "display_name": "Python 3.10.2 64-bit (windows store)",
   "language": "python",
   "name": "python3"
  },
  "language_info": {
   "codemirror_mode": {
    "name": "ipython",
    "version": 3
   },
   "file_extension": ".py",
   "mimetype": "text/x-python",
   "name": "python",
   "nbconvert_exporter": "python",
   "pygments_lexer": "ipython3",
   "version": "3.10.2"
  },
  "orig_nbformat": 4
 },
 "nbformat": 4,
 "nbformat_minor": 2
}
